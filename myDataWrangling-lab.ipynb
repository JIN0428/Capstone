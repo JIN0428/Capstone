{
 "cells": [
  {
   "cell_type": "markdown",
   "metadata": {},
   "source": [
    "<p style=\"text-align:center\">\n",
    "    <a href=\"https://skills.network/?utm_medium=Exinfluencer&utm_source=Exinfluencer&utm_content=000026UJ&utm_term=10006555&utm_id=NA-SkillsNetwork-Channel-SkillsNetworkCoursesIBMDA0321ENSkillsNetwork21426264-2022-01-01\" target=\"_blank\">\n",
    "    <img src=\"https://cf-courses-data.s3.us.cloud-object-storage.appdomain.cloud/assets/logos/SN_web_lightmode.png\" width=\"200\" alt=\"Skills Network Logo\"  />\n",
    "    </a>\n",
    "</p>\n"
   ]
  },
  {
   "cell_type": "markdown",
   "metadata": {},
   "source": [
    "# **Data Wrangling Lab**\n"
   ]
  },
  {
   "cell_type": "markdown",
   "metadata": {},
   "source": [
    "Estimated time needed: **45 to 60** minutes\n"
   ]
  },
  {
   "cell_type": "markdown",
   "metadata": {},
   "source": [
    "In this assignment you will be performing data wrangling.\n"
   ]
  },
  {
   "cell_type": "markdown",
   "metadata": {},
   "source": [
    "## Objectives\n"
   ]
  },
  {
   "cell_type": "markdown",
   "metadata": {},
   "source": [
    "In this lab you will perform the following:\n"
   ]
  },
  {
   "cell_type": "markdown",
   "metadata": {},
   "source": [
    "*   Identify duplicate values in the dataset.\n",
    "\n",
    "*   Remove duplicate values from the dataset.\n",
    "\n",
    "*   Identify missing values in the dataset.\n",
    "\n",
    "*   Impute the missing values in the dataset.\n",
    "\n",
    "*   Normalize data in the dataset.\n"
   ]
  },
  {
   "cell_type": "markdown",
   "metadata": {},
   "source": [
    "<hr>\n"
   ]
  },
  {
   "cell_type": "markdown",
   "metadata": {},
   "source": [
    "## Hands on Lab\n"
   ]
  },
  {
   "cell_type": "markdown",
   "metadata": {},
   "source": [
    "Import pandas module.\n"
   ]
  },
  {
   "cell_type": "code",
   "execution_count": 1,
   "metadata": {},
   "outputs": [],
   "source": [
    "import pandas as pd"
   ]
  },
  {
   "cell_type": "markdown",
   "metadata": {},
   "source": [
    "Load the dataset into a dataframe.\n"
   ]
  },
  {
   "cell_type": "code",
   "execution_count": 2,
   "metadata": {},
   "outputs": [],
   "source": [
    "df = pd.read_csv(\"https://cf-courses-data.s3.us.cloud-object-storage.appdomain.cloud/IBM-DA0321EN-SkillsNetwork/LargeData/m1_survey_data.csv\")"
   ]
  },
  {
   "cell_type": "markdown",
   "metadata": {},
   "source": [
    "## Finding duplicates\n"
   ]
  },
  {
   "cell_type": "markdown",
   "metadata": {},
   "source": [
    "In this section you will identify duplicate values in the dataset.\n"
   ]
  },
  {
   "cell_type": "markdown",
   "metadata": {},
   "source": [
    "Find how many duplicate rows exist in the dataframe.\n"
   ]
  },
  {
   "cell_type": "code",
   "execution_count": 82,
   "metadata": {},
   "outputs": [
    {
     "data": {
      "text/plain": [
       "61"
      ]
     },
     "execution_count": 82,
     "metadata": {},
     "output_type": "execute_result"
    }
   ],
   "source": [
    "# your code goes here\n",
    "df['is_duplicate']=df.duplicated()\n",
    "len(df[df[\"is_duplicate\"]==True].index)"
   ]
  },
  {
   "cell_type": "markdown",
   "metadata": {},
   "source": [
    "## Removing duplicates\n"
   ]
  },
  {
   "cell_type": "markdown",
   "metadata": {},
   "source": [
    "Remove the duplicate rows from the dataframe.\n"
   ]
  },
  {
   "cell_type": "code",
   "execution_count": 21,
   "metadata": {},
   "outputs": [
    {
     "data": {
      "text/plain": [
       "11459"
      ]
     },
     "execution_count": 21,
     "metadata": {},
     "output_type": "execute_result"
    }
   ],
   "source": [
    "# your code goes here\n",
    "df.drop_duplicates(subset=None,keep='first',inplace=True)\n",
    "len(df.index)"
   ]
  },
  {
   "cell_type": "markdown",
   "metadata": {},
   "source": [
    "Verify if duplicates were actually dropped.\n"
   ]
  },
  {
   "cell_type": "code",
   "execution_count": 23,
   "metadata": {},
   "outputs": [
    {
     "data": {
      "text/plain": [
       "0"
      ]
     },
     "execution_count": 23,
     "metadata": {},
     "output_type": "execute_result"
    }
   ],
   "source": [
    "# your code goes here\n",
    "df['is_duplicate']=df.duplicated()\n",
    "len(df[df[\"is_duplicate\"]==True].index)"
   ]
  },
  {
   "cell_type": "markdown",
   "metadata": {},
   "source": [
    "## Finding Missing values\n"
   ]
  },
  {
   "cell_type": "markdown",
   "metadata": {},
   "source": [
    "Find the missing values for all columns.\n"
   ]
  },
  {
   "cell_type": "code",
   "execution_count": 34,
   "metadata": {},
   "outputs": [
    {
     "name": "stdout",
     "output_type": "stream",
     "text": [
      "Respondent\n",
      "False    11459\n",
      "Name: Respondent, dtype: int64\n",
      "MainBranch\n",
      "False    11459\n",
      "Name: MainBranch, dtype: int64\n",
      "Hobbyist\n",
      "False    11459\n",
      "Name: Hobbyist, dtype: int64\n",
      "OpenSourcer\n",
      "False    11459\n",
      "Name: OpenSourcer, dtype: int64\n",
      "OpenSource\n",
      "False    11378\n",
      "True        81\n",
      "Name: OpenSource, dtype: int64\n",
      "Employment\n",
      "False    11459\n",
      "Name: Employment, dtype: int64\n",
      "Country\n",
      "False    11459\n",
      "Name: Country, dtype: int64\n",
      "Student\n",
      "False    11407\n",
      "True        52\n",
      "Name: Student, dtype: int64\n",
      "EdLevel\n",
      "False    11345\n",
      "True       114\n",
      "Name: EdLevel, dtype: int64\n",
      "UndergradMajor\n",
      "False    10721\n",
      "True       738\n",
      "Name: UndergradMajor, dtype: int64\n",
      "EduOther\n",
      "False    11295\n",
      "True       164\n",
      "Name: EduOther, dtype: int64\n",
      "OrgSize\n",
      "False    11362\n",
      "True        97\n",
      "Name: OrgSize, dtype: int64\n",
      "DevType\n",
      "False    11393\n",
      "True        66\n",
      "Name: DevType, dtype: int64\n",
      "YearsCode\n",
      "False    11450\n",
      "True         9\n",
      "Name: YearsCode, dtype: int64\n",
      "Age1stCode\n",
      "False    11446\n",
      "True        13\n",
      "Name: Age1stCode, dtype: int64\n",
      "YearsCodePro\n",
      "False    11443\n",
      "True        16\n",
      "Name: YearsCodePro, dtype: int64\n",
      "CareerSat\n",
      "False    11459\n",
      "Name: CareerSat, dtype: int64\n",
      "JobSat\n",
      "False    11458\n",
      "True         1\n",
      "Name: JobSat, dtype: int64\n",
      "MgrIdiot\n",
      "False    10964\n",
      "True       495\n",
      "Name: MgrIdiot, dtype: int64\n",
      "MgrMoney\n",
      "False    10960\n",
      "True       499\n",
      "Name: MgrMoney, dtype: int64\n",
      "MgrWant\n",
      "False    10964\n",
      "True       495\n",
      "Name: MgrWant, dtype: int64\n",
      "JobSeek\n",
      "False    11459\n",
      "Name: JobSeek, dtype: int64\n",
      "LastHireDate\n",
      "False    11459\n",
      "Name: LastHireDate, dtype: int64\n",
      "LastInt\n",
      "False    11042\n",
      "True       417\n",
      "Name: LastInt, dtype: int64\n",
      "FizzBuzz\n",
      "False    11422\n",
      "True        37\n",
      "Name: FizzBuzz, dtype: int64\n",
      "JobFactors\n",
      "False    11456\n",
      "True         3\n",
      "Name: JobFactors, dtype: int64\n",
      "ResumeUpdate\n",
      "False    11420\n",
      "True        39\n",
      "Name: ResumeUpdate, dtype: int64\n",
      "CurrencySymbol\n",
      "False    11459\n",
      "Name: CurrencySymbol, dtype: int64\n",
      "CurrencyDesc\n",
      "False    11459\n",
      "Name: CurrencyDesc, dtype: int64\n",
      "CompTotal\n",
      "False    10648\n",
      "True       811\n",
      "Name: CompTotal, dtype: int64\n",
      "CompFreq\n",
      "False    11253\n",
      "True       206\n",
      "Name: CompFreq, dtype: int64\n",
      "ConvertedComp\n",
      "False    10641\n",
      "True       818\n",
      "Name: ConvertedComp, dtype: int64\n",
      "WorkWeekHrs\n",
      "False    11336\n",
      "True       123\n",
      "Name: WorkWeekHrs, dtype: int64\n",
      "WorkPlan\n",
      "False    11337\n",
      "True       122\n",
      "Name: WorkPlan, dtype: int64\n",
      "WorkChallenge\n",
      "False    11293\n",
      "True       166\n",
      "Name: WorkChallenge, dtype: int64\n",
      "WorkRemote\n",
      "False    11451\n",
      "True         8\n",
      "Name: WorkRemote, dtype: int64\n",
      "WorkLoc\n",
      "False    11427\n",
      "True        32\n",
      "Name: WorkLoc, dtype: int64\n",
      "ImpSyn\n",
      "False    11454\n",
      "True         5\n",
      "Name: ImpSyn, dtype: int64\n",
      "CodeRev\n",
      "False    11458\n",
      "True         1\n",
      "Name: CodeRev, dtype: int64\n",
      "CodeRevHrs\n",
      "False    9016\n",
      "True     2443\n",
      "Name: CodeRevHrs, dtype: int64\n",
      "UnitTests\n",
      "False    11430\n",
      "True        29\n",
      "Name: UnitTests, dtype: int64\n",
      "PurchaseHow\n",
      "False    11262\n",
      "True       197\n",
      "Name: PurchaseHow, dtype: int64\n",
      "PurchaseWhat\n",
      "False    11421\n",
      "True        38\n",
      "Name: PurchaseWhat, dtype: int64\n",
      "LanguageWorkedWith\n",
      "False    11448\n",
      "True        11\n",
      "Name: LanguageWorkedWith, dtype: int64\n",
      "LanguageDesireNextYear\n",
      "False    11324\n",
      "True       135\n",
      "Name: LanguageDesireNextYear, dtype: int64\n",
      "DatabaseWorkedWith\n",
      "False    11005\n",
      "True       454\n",
      "Name: DatabaseWorkedWith, dtype: int64\n",
      "DatabaseDesireNextYear\n",
      "False    10412\n",
      "True      1047\n",
      "Name: DatabaseDesireNextYear, dtype: int64\n",
      "PlatformWorkedWith\n",
      "False    11044\n",
      "True       415\n",
      "Name: PlatformWorkedWith, dtype: int64\n",
      "PlatformDesireNextYear\n",
      "False    10910\n",
      "True       549\n",
      "Name: PlatformDesireNextYear, dtype: int64\n",
      "WebFrameWorkedWith\n",
      "False    10058\n",
      "True      1401\n",
      "Name: WebFrameWorkedWith, dtype: int64\n",
      "WebFrameDesireNextYear\n",
      "False    9836\n",
      "True     1623\n",
      "Name: WebFrameDesireNextYear, dtype: int64\n",
      "MiscTechWorkedWith\n",
      "False    9265\n",
      "True     2194\n",
      "Name: MiscTechWorkedWith, dtype: int64\n",
      "MiscTechDesireNextYear\n",
      "False    9997\n",
      "True     1462\n",
      "Name: MiscTechDesireNextYear, dtype: int64\n",
      "DevEnviron\n",
      "False    11430\n",
      "True        29\n",
      "Name: DevEnviron, dtype: int64\n",
      "OpSys\n",
      "False    11425\n",
      "True        34\n",
      "Name: OpSys, dtype: int64\n",
      "Containers\n",
      "False    11377\n",
      "True        82\n",
      "Name: Containers, dtype: int64\n",
      "BlockchainOrg\n",
      "False    9126\n",
      "True     2333\n",
      "Name: BlockchainOrg, dtype: int64\n",
      "BlockchainIs\n",
      "False    8838\n",
      "True     2621\n",
      "Name: BlockchainIs, dtype: int64\n",
      "BetterLife\n",
      "False    11360\n",
      "True        99\n",
      "Name: BetterLife, dtype: int64\n",
      "ITperson\n",
      "False    11424\n",
      "True        35\n",
      "Name: ITperson, dtype: int64\n",
      "OffOn\n",
      "False    11421\n",
      "True        38\n",
      "Name: OffOn, dtype: int64\n",
      "SocialMedia\n",
      "False    11162\n",
      "True       297\n",
      "Name: SocialMedia, dtype: int64\n",
      "Extraversion\n",
      "False    11439\n",
      "True        20\n",
      "Name: Extraversion, dtype: int64\n",
      "ScreenName\n",
      "False    10950\n",
      "True       509\n",
      "Name: ScreenName, dtype: int64\n",
      "SOVisit1st\n",
      "False    11134\n",
      "True       325\n",
      "Name: SOVisit1st, dtype: int64\n",
      "SOVisitFreq\n",
      "False    11454\n",
      "True         5\n",
      "Name: SOVisitFreq, dtype: int64\n",
      "SOVisitTo\n",
      "False    11458\n",
      "True         1\n",
      "Name: SOVisitTo, dtype: int64\n",
      "SOFindAnswer\n",
      "False    11456\n",
      "True         3\n",
      "Name: SOFindAnswer, dtype: int64\n",
      "SOTimeSaved\n",
      "False    11409\n",
      "True        50\n",
      "Name: SOTimeSaved, dtype: int64\n",
      "SOHowMuchTime\n",
      "False    9535\n",
      "True     1924\n",
      "Name: SOHowMuchTime, dtype: int64\n",
      "SOAccount\n",
      "False    11458\n",
      "True         1\n",
      "Name: SOAccount, dtype: int64\n",
      "SOPartFreq\n",
      "False    10322\n",
      "True      1137\n",
      "Name: SOPartFreq, dtype: int64\n",
      "SOJobs\n",
      "False    11453\n",
      "True         6\n",
      "Name: SOJobs, dtype: int64\n",
      "EntTeams\n",
      "False    11454\n",
      "True         5\n",
      "Name: EntTeams, dtype: int64\n",
      "SOComm\n",
      "False    11459\n",
      "Name: SOComm, dtype: int64\n",
      "WelcomeChange\n",
      "False    11373\n",
      "True        86\n",
      "Name: WelcomeChange, dtype: int64\n",
      "SONewContent\n",
      "False    9484\n",
      "True     1975\n",
      "Name: SONewContent, dtype: int64\n",
      "Age\n",
      "False    11167\n",
      "True       292\n",
      "Name: Age, dtype: int64\n",
      "Gender\n",
      "False    11385\n",
      "True        74\n",
      "Name: Gender, dtype: int64\n",
      "Trans\n",
      "False    11336\n",
      "True       123\n",
      "Name: Trans, dtype: int64\n",
      "Sexuality\n",
      "False    10915\n",
      "True       544\n",
      "Name: Sexuality, dtype: int64\n",
      "Ethnicity\n",
      "False    10781\n",
      "True       678\n",
      "Name: Ethnicity, dtype: int64\n",
      "Dependents\n",
      "False    11317\n",
      "True       142\n",
      "Name: Dependents, dtype: int64\n",
      "SurveyLength\n",
      "False    11440\n",
      "True        19\n",
      "Name: SurveyLength, dtype: int64\n",
      "SurveyEase\n",
      "False    11445\n",
      "True        14\n",
      "Name: SurveyEase, dtype: int64\n",
      "is_duplicate\n",
      "False    11459\n",
      "Name: is_duplicate, dtype: int64\n"
     ]
    }
   ],
   "source": [
    "# your code goes here\n",
    "missing_value=df.isnull()\n",
    "for column in missing_value.columns.values.tolist():\n",
    "    print(column)\n",
    "    print(missing_value[column].value_counts())"
   ]
  },
  {
   "cell_type": "markdown",
   "metadata": {},
   "source": [
    "Find out how many rows are missing in the column 'WorkLoc'\n"
   ]
  },
  {
   "cell_type": "code",
   "execution_count": 41,
   "metadata": {},
   "outputs": [
    {
     "data": {
      "text/plain": [
       "32"
      ]
     },
     "execution_count": 41,
     "metadata": {},
     "output_type": "execute_result"
    }
   ],
   "source": [
    "# your code goes here\n",
    "data=missing_value[missing_value['WorkLoc']==True]\n",
    "len(data['WorkLoc'])"
   ]
  },
  {
   "cell_type": "markdown",
   "metadata": {},
   "source": [
    "## Imputing missing values\n"
   ]
  },
  {
   "cell_type": "markdown",
   "metadata": {},
   "source": [
    "Find the  value counts for the column WorkLoc.\n"
   ]
  },
  {
   "cell_type": "code",
   "execution_count": 43,
   "metadata": {},
   "outputs": [
    {
     "data": {
      "text/plain": [
       "Office                                            6846\n",
       "Home                                              3608\n",
       "Other place, such as a coworking space or cafe     973\n",
       "Name: WorkLoc, dtype: int64"
      ]
     },
     "execution_count": 43,
     "metadata": {},
     "output_type": "execute_result"
    }
   ],
   "source": [
    "# your code goes here\n",
    "df['WorkLoc'].value_counts()"
   ]
  },
  {
   "cell_type": "markdown",
   "metadata": {},
   "source": [
    "Identify the value that is most frequent (majority) in the WorkLoc column.\n"
   ]
  },
  {
   "cell_type": "code",
   "execution_count": 44,
   "metadata": {},
   "outputs": [
    {
     "data": {
      "text/plain": [
       "count      11427\n",
       "unique         3\n",
       "top       Office\n",
       "freq        6846\n",
       "Name: WorkLoc, dtype: object"
      ]
     },
     "execution_count": 44,
     "metadata": {},
     "output_type": "execute_result"
    }
   ],
   "source": [
    "#make a note of the majority value here, for future reference\n",
    "df['WorkLoc'].describe()"
   ]
  },
  {
   "cell_type": "markdown",
   "metadata": {},
   "source": [
    "Impute (replace) all the empty rows in the column WorkLoc with the value that you have identified as majority.\n"
   ]
  },
  {
   "cell_type": "code",
   "execution_count": 58,
   "metadata": {},
   "outputs": [],
   "source": [
    "# your code goes here\n",
    "df['WorkLoc']=df['WorkLoc'].fillna(\"Office\")"
   ]
  },
  {
   "cell_type": "markdown",
   "metadata": {},
   "source": [
    "After imputation there should ideally not be any empty rows in the WorkLoc column.\n"
   ]
  },
  {
   "cell_type": "markdown",
   "metadata": {},
   "source": [
    "Verify if imputing was successful.\n"
   ]
  },
  {
   "cell_type": "code",
   "execution_count": 61,
   "metadata": {},
   "outputs": [
    {
     "data": {
      "text/plain": [
       "0"
      ]
     },
     "execution_count": 61,
     "metadata": {},
     "output_type": "execute_result"
    }
   ],
   "source": [
    "# your code goes here\n",
    "null1=df['WorkLoc'].isnull()\n",
    "len(null1[null1==True])"
   ]
  },
  {
   "cell_type": "markdown",
   "metadata": {},
   "source": [
    "## Normalizing data\n"
   ]
  },
  {
   "cell_type": "markdown",
   "metadata": {},
   "source": [
    "There are two columns in the dataset that talk about compensation.\n",
    "\n",
    "One is \"CompFreq\". This column shows how often a developer is paid (Yearly, Monthly, Weekly).\n",
    "\n",
    "The other is \"CompTotal\". This column talks about how much the developer is paid per Year, Month, or Week depending upon his/her \"CompFreq\".\n",
    "\n",
    "This makes it difficult to compare the total compensation of the developers.\n",
    "\n",
    "In this section you will create a new column called 'NormalizedAnnualCompensation' which contains the 'Annual Compensation' irrespective of the 'CompFreq'.\n",
    "\n",
    "Once this column is ready, it makes comparison of salaries easy.\n"
   ]
  },
  {
   "cell_type": "markdown",
   "metadata": {},
   "source": [
    "<hr>\n"
   ]
  },
  {
   "cell_type": "markdown",
   "metadata": {},
   "source": [
    "List out the various categories in the column 'CompFreq'\n"
   ]
  },
  {
   "cell_type": "code",
   "execution_count": 63,
   "metadata": {},
   "outputs": [
    {
     "data": {
      "text/plain": [
       "Yearly     6108\n",
       "Monthly    4811\n",
       "Weekly      334\n",
       "Name: CompFreq, dtype: int64"
      ]
     },
     "execution_count": 63,
     "metadata": {},
     "output_type": "execute_result"
    }
   ],
   "source": [
    "# your code goes here\n",
    "df['CompFreq'].value_counts()"
   ]
  },
  {
   "cell_type": "markdown",
   "metadata": {},
   "source": [
    "Create a new column named 'NormalizedAnnualCompensation'. Use the hint given below if needed.\n"
   ]
  },
  {
   "cell_type": "markdown",
   "metadata": {},
   "source": [
    "Double click to see the **Hint**.\n",
    "\n",
    "<!--\n",
    "\n",
    "Use the below logic to arrive at the values for the column NormalizedAnnualCompensation.\n",
    "\n",
    "If the CompFreq is Yearly then use the exising value in CompTotal\n",
    "If the CompFreq is Monthly then multiply the value in CompTotal with 12 (months in an year)\n",
    "If the CompFreq is Weekly then multiply the value in CompTotal with 52 (weeks in an year)\n",
    "\n",
    "-->\n"
   ]
  },
  {
   "cell_type": "code",
   "execution_count": 79,
   "metadata": {},
   "outputs": [],
   "source": [
    "# your code goes here\n",
    "def function(a,b):\n",
    "    if(a=='Yearly'):\n",
    "        return b\n",
    "    elif(a=='Monthly'):\n",
    "        return float(b)*12\n",
    "    elif(a=='Weekly'):\n",
    "        return float(b)*52\n",
    "df['NormalizedAnnualCompensation']=df.apply(lambda x: function(x['CompFreq'],x['CompTotal']),axis=1)"
   ]
  },
  {
   "cell_type": "markdown",
   "metadata": {},
   "source": [
    "## Authors\n"
   ]
  },
  {
   "cell_type": "markdown",
   "metadata": {},
   "source": [
    "Ramesh Sannareddy\n"
   ]
  },
  {
   "cell_type": "markdown",
   "metadata": {},
   "source": [
    "### Other Contributors\n"
   ]
  },
  {
   "cell_type": "markdown",
   "metadata": {},
   "source": [
    "Rav Ahuja\n"
   ]
  },
  {
   "cell_type": "markdown",
   "metadata": {},
   "source": [
    "## Change Log\n"
   ]
  },
  {
   "cell_type": "markdown",
   "metadata": {},
   "source": [
    "| Date (YYYY-MM-DD) | Version | Changed By        | Change Description                 |\n",
    "| ----------------- | ------- | ----------------- | ---------------------------------- |\n",
    "| 2020-10-17        | 0.1     | Ramesh Sannareddy | Created initial version of the lab |\n"
   ]
  },
  {
   "cell_type": "markdown",
   "metadata": {},
   "source": [
    "Copyright © 2020 IBM Corporation. This notebook and its source code are released under the terms of the [MIT License](https://cognitiveclass.ai/mit-license?utm_medium=Exinfluencer&utm_source=Exinfluencer&utm_content=000026UJ&utm_term=10006555&utm_id=NA-SkillsNetwork-Channel-SkillsNetworkCoursesIBMDA0321ENSkillsNetwork21426264-2022-01-01&cm_mmc=Email_Newsletter-\\_-Developer_Ed%2BTech-\\_-WW_WW-\\_-SkillsNetwork-Courses-IBM-DA0321EN-SkillsNetwork-21426264&cm_mmca1=000026UJ&cm_mmca2=10006555&cm_mmca3=M12345678&cvosrc=email.Newsletter.M12345678&cvo_campaign=000026UJ).\n"
   ]
  }
 ],
 "metadata": {
  "kernelspec": {
   "display_name": "Python 3 (ipykernel)",
   "language": "python",
   "name": "python3"
  },
  "language_info": {
   "codemirror_mode": {
    "name": "ipython",
    "version": 3
   },
   "file_extension": ".py",
   "mimetype": "text/x-python",
   "name": "python",
   "nbconvert_exporter": "python",
   "pygments_lexer": "ipython3",
   "version": "3.9.12"
  }
 },
 "nbformat": 4,
 "nbformat_minor": 4
}
